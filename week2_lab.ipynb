{
  "nbformat": 4,
  "nbformat_minor": 0,
  "metadata": {
    "colab": {
      "provenance": [],
      "authorship_tag": "ABX9TyNEr+ze6FImoRGJyJQxoany",
      "include_colab_link": true
    },
    "kernelspec": {
      "name": "python3",
      "display_name": "Python 3"
    },
    "language_info": {
      "name": "python"
    }
  },
  "cells": [
    {
      "cell_type": "markdown",
      "metadata": {
        "id": "view-in-github",
        "colab_type": "text"
      },
      "source": [
        "<a href=\"https://colab.research.google.com/github/dineshkumar-gorantla/IITH_labs/blob/main/week2_lab.ipynb\" target=\"_parent\"><img src=\"https://colab.research.google.com/assets/colab-badge.svg\" alt=\"Open In Colab\"/></a>"
      ]
    },
    {
      "cell_type": "code",
      "execution_count": null,
      "metadata": {
        "id": "3OSm3eiswk-d"
      },
      "outputs": [],
      "source": [
        "total_cards = 52\n",
        "numbered_cards = 36\n",
        "\n",
        "probability_numbered_card = numbered_cards / total_cards\n",
        "\n",
        "print(f\"The probability of drawing a numbered card is: {probability_numbered_card:.2f}\")\n"
      ]
    },
    {
      "cell_type": "code",
      "source": [
        "probability_numbered_card = 36 / 52\n",
        "\n",
        "probability_both_numbered = probability_numbered_card * probability_numbered_card\n",
        "\n",
        "print(f\"The probability that both cards drawn are numbered cards is: {probability_both_numbered:.4f}\")\n"
      ],
      "metadata": {
        "id": "xEWKBvlqGRXg"
      },
      "execution_count": null,
      "outputs": []
    },
    {
      "cell_type": "code",
      "source": [
        "\n",
        "probability_first_numbered = 36 / 52\n",
        "probability_second_numbered_given_first = 35 / 51\n",
        "\n",
        "probability_both_numbered = probability_first_numbered * probability_second_numbered_given_first\n",
        "\n",
        "print(f\"The probability that both cards drawn are numbered cards is: {probability_both_numbered:.4f}\")\n"
      ],
      "metadata": {
        "id": "gFnI_pINGb6w"
      },
      "execution_count": null,
      "outputs": []
    },
    {
      "cell_type": "code",
      "source": [
        "total_cards = 52\n",
        "numbered_card_positions = 36\n",
        "\n",
        "probability_bottom_numbered = numbered_card_positions / total_cards\n",
        "\n",
        "print(f\"The probability that the bottom card of your cut is a numbered card is: {probability_bottom_numbered:.2f}\")\n"
      ],
      "metadata": {
        "id": "g9zeJ4h7HGYJ"
      },
      "execution_count": null,
      "outputs": []
    }
  ]
}